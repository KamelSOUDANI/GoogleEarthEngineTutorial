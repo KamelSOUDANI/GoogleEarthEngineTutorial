{
 "cells": [
  {
   "cell_type": "markdown",
   "metadata": {},
   "source": [
    "### 1. Install dependencies using Pip or Conda, or under Visual Studio Code (best choice), use PIP MANAGER extension and then run Google cloud session\n"
   ]
  },
  {
   "cell_type": "markdown",
   "metadata": {},
   "source": [
    "\n",
    "Frequently used libraries\n"
   ]
  },
  {
   "cell_type": "code",
   "execution_count": 2,
   "metadata": {},
   "outputs": [],
   "source": [
    "%reset -f\n",
    "## ee : library to access Google Earth Engine\n",
    "## geemap : library to access Google Earth Engine\n",
    "## geopandas : library to access geospatial data\n",
    "## earthpy : library to access geospatial data\n",
    "## folium : library to access geospatial data\n",
    "## matplotlib : library to access geospatial data\n",
    "## numpy : library to access geospatial data\n",
    "## pandas : library to access geospatial data\n",
    "## rasterio : library to access geospatial data\n",
    "## shapely : library to access geospatial data  \n",
    "## sklearn : library to access geospatial data\n",
    "## tqdm : library to access geospatial data \n",
    "## pyproj : library to access geospatial data\n",
    "## os : library to access geospatial data   \n",
    "## sys : library to access geospatial data\n",
    "## subprocess : library to access geospatial data   \n",
    "## datetime : library to access geospatial data\n",
    "## time : library to access geospatial data\n",
    "## glob : library to access geospatial data\n"
   ]
  },
  {
   "cell_type": "markdown",
   "metadata": {},
   "source": [
    "Datasets : https://developers.google.com/earth-engine/datasets/"
   ]
  },
  {
   "cell_type": "markdown",
   "metadata": {},
   "source": [
    "#### 1.1. Open GEE session (gmail adress is needed) "
   ]
  },
  {
   "cell_type": "code",
   "execution_count": 1,
   "metadata": {},
   "outputs": [
    {
     "data": {
      "text/html": [
       "<p>To authorize access needed by Earth Engine, open the following\n",
       "        URL in a web browser and follow the instructions:</p>\n",
       "        <p><a href=https://code.earthengine.google.com/client-auth?scopes=https%3A//www.googleapis.com/auth/earthengine%20https%3A//www.googleapis.com/auth/devstorage.full_control&request_id=k9Ao07kF16T7vxCSb4g8pvPaFUq8Sxsnwm-v296yVCA&tc=lBYizHdI9AMpUT-ohCKRYlTlyRRQt48HFjr1Jj_m-F0&cc=erbXLxRSn9UNtEb6GLQrjHeATfW914opMdeQ1j2c72s>https://code.earthengine.google.com/client-auth?scopes=https%3A//www.googleapis.com/auth/earthengine%20https%3A//www.googleapis.com/auth/devstorage.full_control&request_id=k9Ao07kF16T7vxCSb4g8pvPaFUq8Sxsnwm-v296yVCA&tc=lBYizHdI9AMpUT-ohCKRYlTlyRRQt48HFjr1Jj_m-F0&cc=erbXLxRSn9UNtEb6GLQrjHeATfW914opMdeQ1j2c72s</a></p>\n",
       "        <p>The authorization workflow will generate a code, which you should paste in the box below.</p>\n",
       "        "
      ],
      "text/plain": [
       "<IPython.core.display.HTML object>"
      ]
     },
     "metadata": {},
     "output_type": "display_data"
    },
    {
     "name": "stdout",
     "output_type": "stream",
     "text": [
      "\n",
      "Successfully saved authorization token.\n"
     ]
    }
   ],
   "source": [
    "import ee\n",
    "\n",
    "# Trigger the authentication flow.\n",
    "ee.Authenticate()\n",
    "\n",
    "# Initialize the library.\n",
    "ee.Initialize()"
   ]
  },
  {
   "cell_type": "markdown",
   "metadata": {},
   "source": [
    "#### 1.2. Visualization of the data using folium and geemap (geemap is a very useful library to visualize and process data from Google Earth Engine)"
   ]
  },
  {
   "cell_type": "code",
   "execution_count": 2,
   "metadata": {},
   "outputs": [
    {
     "data": {
      "text/html": [
       "<div style=\"width:100%;\"><div style=\"position:relative;width:100%;height:0;padding-bottom:60%;\"><span style=\"color:#565656\">Make this Notebook Trusted to load map: File -> Trust Notebook</span><iframe srcdoc=\"&lt;!DOCTYPE html&gt;\n",
       "&lt;html&gt;\n",
       "&lt;head&gt;\n",
       "    \n",
       "    &lt;meta http-equiv=&quot;content-type&quot; content=&quot;text/html; charset=UTF-8&quot; /&gt;\n",
       "    \n",
       "        &lt;script&gt;\n",
       "            L_NO_TOUCH = false;\n",
       "            L_DISABLE_3D = false;\n",
       "        &lt;/script&gt;\n",
       "    \n",
       "    &lt;style&gt;html, body {width: 100%;height: 100%;margin: 0;padding: 0;}&lt;/style&gt;\n",
       "    &lt;style&gt;#map {position:absolute;top:0;bottom:0;right:0;left:0;}&lt;/style&gt;\n",
       "    &lt;script src=&quot;https://cdn.jsdelivr.net/npm/leaflet@1.9.3/dist/leaflet.js&quot;&gt;&lt;/script&gt;\n",
       "    &lt;script src=&quot;https://code.jquery.com/jquery-1.12.4.min.js&quot;&gt;&lt;/script&gt;\n",
       "    &lt;script src=&quot;https://cdn.jsdelivr.net/npm/bootstrap@5.2.2/dist/js/bootstrap.bundle.min.js&quot;&gt;&lt;/script&gt;\n",
       "    &lt;script src=&quot;https://cdnjs.cloudflare.com/ajax/libs/Leaflet.awesome-markers/2.0.2/leaflet.awesome-markers.js&quot;&gt;&lt;/script&gt;\n",
       "    &lt;link rel=&quot;stylesheet&quot; href=&quot;https://cdn.jsdelivr.net/npm/leaflet@1.9.3/dist/leaflet.css&quot;/&gt;\n",
       "    &lt;link rel=&quot;stylesheet&quot; href=&quot;https://cdn.jsdelivr.net/npm/bootstrap@5.2.2/dist/css/bootstrap.min.css&quot;/&gt;\n",
       "    &lt;link rel=&quot;stylesheet&quot; href=&quot;https://netdna.bootstrapcdn.com/bootstrap/3.0.0/css/bootstrap.min.css&quot;/&gt;\n",
       "    &lt;link rel=&quot;stylesheet&quot; href=&quot;https://cdn.jsdelivr.net/npm/@fortawesome/fontawesome-free@6.2.0/css/all.min.css&quot;/&gt;\n",
       "    &lt;link rel=&quot;stylesheet&quot; href=&quot;https://cdnjs.cloudflare.com/ajax/libs/Leaflet.awesome-markers/2.0.2/leaflet.awesome-markers.css&quot;/&gt;\n",
       "    &lt;link rel=&quot;stylesheet&quot; href=&quot;https://cdn.jsdelivr.net/gh/python-visualization/folium/folium/templates/leaflet.awesome.rotate.min.css&quot;/&gt;\n",
       "    \n",
       "            &lt;meta name=&quot;viewport&quot; content=&quot;width=device-width,\n",
       "                initial-scale=1.0, maximum-scale=1.0, user-scalable=no&quot; /&gt;\n",
       "            &lt;style&gt;\n",
       "                #map_e47a1d2d5af926b7ddfaa76cfcff24f2 {\n",
       "                    position: relative;\n",
       "                    width: 100.0%;\n",
       "                    height: 100.0%;\n",
       "                    left: 0.0%;\n",
       "                    top: 0.0%;\n",
       "                }\n",
       "                .leaflet-container { font-size: 1rem; }\n",
       "            &lt;/style&gt;\n",
       "        \n",
       "&lt;/head&gt;\n",
       "&lt;body&gt;\n",
       "    \n",
       "    \n",
       "            &lt;div class=&quot;folium-map&quot; id=&quot;map_e47a1d2d5af926b7ddfaa76cfcff24f2&quot; &gt;&lt;/div&gt;\n",
       "        \n",
       "&lt;/body&gt;\n",
       "&lt;script&gt;\n",
       "    \n",
       "    \n",
       "            var map_e47a1d2d5af926b7ddfaa76cfcff24f2 = L.map(\n",
       "                &quot;map_e47a1d2d5af926b7ddfaa76cfcff24f2&quot;,\n",
       "                {\n",
       "                    center: [2.855, 48.77],\n",
       "                    crs: L.CRS.EPSG3857,\n",
       "                    zoom: 10,\n",
       "                    zoomControl: true,\n",
       "                    preferCanvas: false,\n",
       "                }\n",
       "            );\n",
       "\n",
       "            \n",
       "\n",
       "        \n",
       "    \n",
       "            var tile_layer_fc01e7978689e64aa8a0d212dd7c7ef6 = L.tileLayer(\n",
       "                &quot;https://{s}.tile.openstreetmap.org/{z}/{x}/{y}.png&quot;,\n",
       "                {&quot;attribution&quot;: &quot;Data by \\u0026copy; \\u003ca target=\\&quot;_blank\\&quot; href=\\&quot;http://openstreetmap.org\\&quot;\\u003eOpenStreetMap\\u003c/a\\u003e, under \\u003ca target=\\&quot;_blank\\&quot; href=\\&quot;http://www.openstreetmap.org/copyright\\&quot;\\u003eODbL\\u003c/a\\u003e.&quot;, &quot;detectRetina&quot;: false, &quot;maxNativeZoom&quot;: 18, &quot;maxZoom&quot;: 18, &quot;minZoom&quot;: 0, &quot;noWrap&quot;: false, &quot;opacity&quot;: 1, &quot;subdomains&quot;: &quot;abc&quot;, &quot;tms&quot;: false}\n",
       "            ).addTo(map_e47a1d2d5af926b7ddfaa76cfcff24f2);\n",
       "        \n",
       "&lt;/script&gt;\n",
       "&lt;/html&gt;\" style=\"position:absolute;width:100%;height:100%;left:0;top:0;border:none !important;\" allowfullscreen webkitallowfullscreen mozallowfullscreen></iframe></div></div>"
      ],
      "text/plain": [
       "<folium.folium.Map at 0x20455af4070>"
      ]
     },
     "execution_count": 2,
     "metadata": {},
     "output_type": "execute_result"
    }
   ],
   "source": [
    "import folium\n",
    "\n",
    "# Define the center of our map.\n",
    "lat, lon = 48.77, 2.855\n",
    "my_map = folium.Map(location=[lon,lat], zoom_start=10)\n",
    "my_map"
   ]
  },
  {
   "cell_type": "code",
   "execution_count": 3,
   "metadata": {},
   "outputs": [
    {
     "data": {
      "application/vnd.jupyter.widget-view+json": {
       "model_id": "fe410acce3084070907352006a27f959",
       "version_major": 2,
       "version_minor": 0
      },
      "text/plain": [
       "Map(center=[0, 0], controls=(WidgetControl(options=['position', 'transparent_bg'], widget=SearchDataGUI(childr…"
      ]
     },
     "execution_count": 3,
     "metadata": {},
     "output_type": "execute_result"
    }
   ],
   "source": [
    "import geemap\n",
    "\n",
    "# Create a Map\n",
    "Map = geemap.Map()\n",
    "lat, lon = 48.48, 2.78\n",
    "Point=ee.Geometry.Point([lon,lat])\n",
    "Map.addLayer(Point, {}, 'Point location')\n",
    "\n",
    "# Display the map\n",
    "Map"
   ]
  },
  {
   "cell_type": "markdown",
   "metadata": {},
   "source": [
    " What is necessary to know : Features, Images and Collections\n",
    "Datasets can be of different types: \n",
    "- Features which are geometric objects with a list of properties. For example, a polygon with some properties such as name and area, is an ee.Feature.\n",
    "- Images which are like features, but may include several bands. For example, the ground elevation given by the USGS here is an ee.Image.\n",
    "- Collections which are groups of features or images. For example, the Global Administrative Unit Layers giving administrative boundaries is a ee.FeatureCollection and the MODIS Land Surface Temperature dataset is an ee.ImageCollection.\n"
   ]
  },
  {
   "cell_type": "markdown",
   "metadata": {},
   "source": [
    "### 2. Feature, feature collection, image, image collection, and properties"
   ]
  },
  {
   "cell_type": "markdown",
   "metadata": {},
   "source": [
    "#### 2.1. Create feature : point, line and polygone"
   ]
  },
  {
   "cell_type": "code",
   "execution_count": null,
   "metadata": {},
   "outputs": [
    {
     "data": {
      "text/html": [
       "\n",
       "            <style>\n",
       "                .geemap-dark {\n",
       "                    --jp-widgets-color: white;\n",
       "                    --jp-widgets-label-color: white;\n",
       "                    --jp-ui-font-color1: white;\n",
       "                    --jp-layout-color2: #454545;\n",
       "                    background-color: #383838;\n",
       "                }\n",
       "                    \n",
       "                .geemap-dark .jupyter-button {\n",
       "                    --jp-layout-color3: #383838;\n",
       "                }\n",
       "                \n",
       "                .geemap-colab {\n",
       "                    background-color: var(--colab-primary-surface-color, white);\n",
       "                }\n",
       "                    \n",
       "                .geemap-colab .jupyter-button {\n",
       "                    --jp-layout-color3: var(--colab-primary-surface-color, white);\n",
       "                }\n",
       "            </style>\n",
       "            "
      ],
      "text/plain": [
       "<IPython.core.display.HTML object>"
      ]
     },
     "metadata": {},
     "output_type": "display_data"
    },
    {
     "name": "stdout",
     "output_type": "stream",
     "text": [
      "{'type': 'Feature', 'geometry': {'type': 'Polygon', 'coordinates': [[[2.7800000000000007, 48.48899886595148], [2.776207569451764, 48.488640648801265], [2.7727171665972192, 48.487594525920876], [2.769806730818639, 48.48594380762316], [2.767707956962133, 48.48381994230586], [2.7665878449052257, 48.481392037167936], [2.7665354259077186, 48.47885338244601], [2.7675547162095593, 48.47640605647058], [2.7695644461188036, 48.474244839797606], [2.7724045709307372, 48.47254171898007], [2.775849032363762, 48.47143221088446], [2.7796237478954526, 48.471004591628734], [2.7834283975901464, 48.4712928825047], [2.786960283588095, 48.47227414724703], [2.7899383773705706, 48.47387031411518], [2.7921256554371165, 48.475954378886016], [2.7933479561376013, 48.478360498588145], [2.7935078598597847, 48.48089717744301], [2.7925924824495425, 48.48336250014129], [2.7906745494107814, 48.48556020294294], [2.7879066502084435, 48.48731530377108], [2.78450911652048, 48.48848804480746], [2.7807524817029297, 48.488985033383514], [2.7800000000000007, 48.48899886595148]]]}, 'properties': {'name': 'Circle'}}\n"
     ]
    },
    {
     "data": {
      "application/vnd.jupyter.widget-view+json": {
       "model_id": "33c5701a281e41e7bcd10db577e18da2",
       "version_major": 2,
       "version_minor": 0
      },
      "text/plain": [
       "Map(bottom=453.0, center=[-32.842673631954305, 432.07031250000006], controls=(WidgetControl(options=['position…"
      ]
     },
     "execution_count": 4,
     "metadata": {},
     "output_type": "execute_result"
    }
   ],
   "source": [
    "\n",
    "# Create a Feature : point, rectangle, polygon\n",
    "latitude, longitude = 48.48, 2.78\n",
    "feature_pt = ee.Feature(ee.Geometry.Point(longitude,latitude), {'name': 'Point'})\n",
    "feature_rectangle=ee.Feature(ee.Geometry.Rectangle([2.78, 48.48, 3.0, 48.15]), {'name': 'Rectange'})\n",
    "feature_polygon=ee.Feature(ee.Geometry.Polygon([[2.78, 48.48], [3.0, 48.15], [3.2, 48.45], [3.0, 48.70]]), {'name': 'Polygon'})\n",
    "\n",
    "# create circle\n",
    "# Define a point (center).\n",
    "point = ee.Geometry.Point(2.78, 48.48)\n",
    "\n",
    "# Define a circle by buffering the point.\n",
    "circle = point.buffer(1000)  # The radius is in meters.\n",
    "# Create a feature from the circle.\n",
    "feature_circle = ee.Feature(circle, {'name': 'Circle'})\n",
    "\n",
    "# Print it.\n",
    "print(feature_circle.getInfo())\n",
    "Map.addLayer(feature_pt, {}, 'Point location')\n",
    "Map.addLayer(feature_rectangle, {}, 'Rectangle')\n",
    "Map.addLayer(feature_polygon, {}, 'Polygon')\n",
    "Map.addLayer(feature_circle, {}, 'Circle')\n",
    "Map"
   ]
  },
  {
   "cell_type": "markdown",
   "metadata": {},
   "source": [
    "#### 2.2 Create feature collection: point, line and polygone"
   ]
  },
  {
   "cell_type": "code",
   "execution_count": null,
   "metadata": {},
   "outputs": [
    {
     "data": {
      "text/html": [
       "\n",
       "            <style>\n",
       "                .geemap-dark {\n",
       "                    --jp-widgets-color: white;\n",
       "                    --jp-widgets-label-color: white;\n",
       "                    --jp-ui-font-color1: white;\n",
       "                    --jp-layout-color2: #454545;\n",
       "                    background-color: #383838;\n",
       "                }\n",
       "                    \n",
       "                .geemap-dark .jupyter-button {\n",
       "                    --jp-layout-color3: #383838;\n",
       "                }\n",
       "                \n",
       "                .geemap-colab {\n",
       "                    background-color: var(--colab-primary-surface-color, white);\n",
       "                }\n",
       "                    \n",
       "                .geemap-colab .jupyter-button {\n",
       "                    --jp-layout-color3: var(--colab-primary-surface-color, white);\n",
       "                }\n",
       "            </style>\n",
       "            "
      ],
      "text/plain": [
       "<IPython.core.display.HTML object>"
      ]
     },
     "metadata": {},
     "output_type": "display_data"
    },
    {
     "name": "stdout",
     "output_type": "stream",
     "text": [
      "{'type': 'FeatureCollection', 'columns': {'name': 'String', 'system:index': 'String'}, 'features': [{'type': 'Feature', 'geometry': {'type': 'Polygon', 'coordinates': [[[30.01, 59.8], [30.59, 59.8], [30.59, 60.15], [30.01, 60.15], [30.01, 59.8]]]}, 'id': '0', 'properties': {'name': 'Rectange'}}, {'type': 'Feature', 'geometry': {'type': 'Point', 'coordinates': [-73.96, 40.781]}, 'id': '1', 'properties': {'name': 'Point'}}, {'type': 'Feature', 'geometry': {'type': 'Point', 'coordinates': [6.4806, 50.8012]}, 'id': '2', 'properties': {'name': 'Point'}}]}\n"
     ]
    }
   ],
   "source": [
    "\n",
    "# Make a list of Features.\n",
    "features = [\n",
    "  ee.Feature(ee.Geometry.Rectangle([30.01, 59.80, 30.59, 60.15]), {'name': 'Rectange'}),\n",
    "  ee.Feature(ee.Geometry.Point([-73.96, 40.781]), {'name': 'Point'}),\n",
    "  ee.Feature(ee.Geometry.Point([6.4806, 50.8012]), {'name': 'Point'})\n",
    "]\n",
    "# Create a FeatureCollection from the list.\n",
    "from_list = ee.FeatureCollection(features)\n",
    "# Print it.\n",
    "print(from_list.getInfo())"
   ]
  },
  {
   "cell_type": "markdown",
   "metadata": {},
   "source": [
    "In Google Earth Engine (GEE), `ee.Feature` and `ee.FeatureCollection` objects have several methods that you can use to manipulate and analyze them.\n",
    "\n",
    "Here are some of the most commonly used methods for `ee.Feature`:\n",
    "\n",
    "- `geometry()`: Returns the geometry of the feature.\n",
    "- `set()`: Sets a property in the feature.\n",
    "- `get()`: Gets a property from the feature.\n",
    "- `propertyNames()`: Gets the names of the properties in the feature.\n",
    "\n",
    "And here are some for `ee.FeatureCollection`:\n",
    "\n",
    "- `filter()`: Filters the collection based on metadata or feature properties.\n",
    "- `map()`: Applies a function to each feature in the collection.\n",
    "- `first()`: Gets the first feature in the collection.\n",
    "- `size()`: Gets the number of features in the collection.\n",
    "- `getInfo()`: Retrieves information about the collection.\n",
    "- `sort()`: Sorts the collection by a property.\n",
    "- `limit()`: Limits the number of features in the collection.\n",
    "- `merge()`: Merges two or more feature collections into a single collection.\n",
    "\n",
    "You can find more information about these methods and others in the [GEE API documentation](https://developers.google.com/earth-engine/apidocs)."
   ]
  },
  {
   "cell_type": "code",
   "execution_count": null,
   "metadata": {},
   "outputs": [
    {
     "data": {
      "text/html": [
       "\n",
       "            <style>\n",
       "                .geemap-dark {\n",
       "                    --jp-widgets-color: white;\n",
       "                    --jp-widgets-label-color: white;\n",
       "                    --jp-ui-font-color1: white;\n",
       "                    --jp-layout-color2: #454545;\n",
       "                    background-color: #383838;\n",
       "                }\n",
       "                    \n",
       "                .geemap-dark .jupyter-button {\n",
       "                    --jp-layout-color3: #383838;\n",
       "                }\n",
       "                \n",
       "                .geemap-colab {\n",
       "                    background-color: var(--colab-primary-surface-color, white);\n",
       "                }\n",
       "                    \n",
       "                .geemap-colab .jupyter-button {\n",
       "                    --jp-layout-color3: var(--colab-primary-surface-color, white);\n",
       "                }\n",
       "            </style>\n",
       "            "
      ],
      "text/plain": [
       "<IPython.core.display.HTML object>"
      ]
     },
     "metadata": {},
     "output_type": "display_data"
    },
    {
     "name": "stdout",
     "output_type": "stream",
     "text": [
      "3\n",
      "{'type': 'Polygon', 'coordinates': [[[30.01, 59.8], [30.59, 59.8], [30.59, 60.15], [30.01, 60.15], [30.01, 59.8]]]}\n"
     ]
    }
   ],
   "source": [
    "print(from_list.size().getInfo())  \n",
    "print(from_list.first().geometry().getInfo())"
   ]
  },
  {
   "cell_type": "markdown",
   "metadata": {},
   "source": [
    "#### 2.3. Image and image Collection"
   ]
  },
  {
   "cell_type": "markdown",
   "metadata": {},
   "source": [
    "##### 2.3.1. Read Image and image Collection"
   ]
  },
  {
   "cell_type": "code",
   "execution_count": 4,
   "metadata": {},
   "outputs": [
    {
     "data": {
      "text/html": [
       "\n",
       "            <style>\n",
       "                .geemap-dark {\n",
       "                    --jp-widgets-color: white;\n",
       "                    --jp-widgets-label-color: white;\n",
       "                    --jp-ui-font-color1: white;\n",
       "                    --jp-layout-color2: #454545;\n",
       "                    background-color: #383838;\n",
       "                }\n",
       "                    \n",
       "                .geemap-dark .jupyter-button {\n",
       "                    --jp-layout-color3: #383838;\n",
       "                }\n",
       "                \n",
       "                .geemap-colab {\n",
       "                    background-color: var(--colab-primary-surface-color, white);\n",
       "                }\n",
       "                    \n",
       "                .geemap-colab .jupyter-button {\n",
       "                    --jp-layout-color3: var(--colab-primary-surface-color, white);\n",
       "                }\n",
       "            </style>\n",
       "            "
      ],
      "text/plain": [
       "<IPython.core.display.HTML object>"
      ]
     },
     "metadata": {},
     "output_type": "display_data"
    }
   ],
   "source": [
    "# Import the USGS ground elevation image : contains a single band representing elevation.\n",
    "elevation = ee.Image('USGS/SRTMGL1_003')\n",
    "# Import the MODIS land cover collection : \n",
    "LandcoverMODIS = ee.ImageCollection('MODIS/006/MCD12Q1')\n",
    "# Import the MODIS NDVI collection.\n",
    "ndvi = ee.ImageCollection('MODIS/006/MOD13A1')\n",
    "# Import the MODIS land surface temperature collection.\n",
    "LSTemp = ee.ImageCollection('MODIS/006/MOD11A1')"
   ]
  },
  {
   "cell_type": "markdown",
   "metadata": {},
   "source": [
    "##### 2.3.2. Visualise an image"
   ]
  },
  {
   "cell_type": "code",
   "execution_count": 5,
   "metadata": {},
   "outputs": [
    {
     "data": {
      "text/html": [
       "\n",
       "            <style>\n",
       "                .geemap-dark {\n",
       "                    --jp-widgets-color: white;\n",
       "                    --jp-widgets-label-color: white;\n",
       "                    --jp-ui-font-color1: white;\n",
       "                    --jp-layout-color2: #454545;\n",
       "                    background-color: #383838;\n",
       "                }\n",
       "                    \n",
       "                .geemap-dark .jupyter-button {\n",
       "                    --jp-layout-color3: #383838;\n",
       "                }\n",
       "                \n",
       "                .geemap-colab {\n",
       "                    background-color: var(--colab-primary-surface-color, white);\n",
       "                }\n",
       "                    \n",
       "                .geemap-colab .jupyter-button {\n",
       "                    --jp-layout-color3: var(--colab-primary-surface-color, white);\n",
       "                }\n",
       "            </style>\n",
       "            "
      ],
      "text/plain": [
       "<IPython.core.display.HTML object>"
      ]
     },
     "metadata": {},
     "output_type": "display_data"
    },
    {
     "data": {
      "application/vnd.jupyter.widget-view+json": {
       "model_id": "9ba8917f9ca34adf9613ed379ceb29d7",
       "version_major": 2,
       "version_minor": 0
      },
      "text/plain": [
       "Map(center=[48.5, 2.78], controls=(WidgetControl(options=['position', 'transparent_bg'], widget=SearchDataGUI(…"
      ]
     },
     "execution_count": 5,
     "metadata": {},
     "output_type": "execute_result"
    }
   ],
   "source": [
    "#  Visualize the elevation data with geemap using the addLayer() function.\n",
    "Map = geemap.Map()\n",
    "# Create a palette to display the elevation data\n",
    "# Define the visualization parameters.\n",
    "vis_params = {\n",
    "  'min': 0,\n",
    "  'max': 4000,\n",
    "  'palette': ['006633', 'E5FFCC', '662A00', 'D8D8D8', 'F5F5F5']}\n",
    "\n",
    "# Center the map and display the image\n",
    "Map.setCenter(lon=2.78, lat=48.5, zoom=12)\n",
    "Map.addLayer(elevation, vis_params, 'Elevation in m')\n",
    "Map"
   ]
  },
  {
   "cell_type": "markdown",
   "metadata": {},
   "source": [
    "##### 2.3.3. Get information about the image collection"
   ]
  },
  {
   "cell_type": "markdown",
   "metadata": {},
   "source": [
    "In Google Earth Engine (GEE), an `ImageCollection` object has several methods that you can use to manipulate and analyze the collection. Here are some of the most commonly used methods:\n",
    "\n",
    "- `filter()`: Filters the collection based on metadata or image properties.\n",
    "- `map()`: Applies a function to each image in the collection.\n",
    "- `reduce()`: Reduces the collection to an image by combining all images using a specified reducer.\n",
    "- `sort()`: Sorts the collection by a property.\n",
    "- `first()`: Gets the first image in the collection.\n",
    "- `size()`: Gets the number of images in the collection.\n",
    "- `getInfo()`: Retrieves information about the collection.\n",
    "- `mosaic()`: Creates a mosaic of the images in the collection.\n",
    "- `median()`: Gets the median of each pixel for all images in the collection.\n",
    "- `mean()`: Gets the mean of each pixel for all images in the collection.\n",
    "- `min()`: Gets the minimum of each pixel for all images in the collection.\n",
    "- `max()`: Gets the maximum of each pixel for all images in the collection.\n",
    "- `count()`: Counts the number of non-null pixels for each image in the collection.\n",
    "- `sum()`: Sums all the pixel values for each image in the collection.\n",
    "\n",
    "You can find more information about these methods and others in the [GEE API documentation](https://developers.google.com/earth-engine/apidocs/ee-imagecollection)."
   ]
  },
  {
   "cell_type": "markdown",
   "metadata": {},
   "source": [
    "In Google Earth Engine (GEE), an `Image` object has several methods that you can use to manipulate and analyze the image. Here are some of the most commonly used methods:\n",
    "\n",
    "- `addBands()`: Adds new bands to the image.\n",
    "- `clip()`: Clips the image to a specified geometry.\n",
    "- `rename()`: Renames the bands of the image.\n",
    "- `select()`: Selects specified bands from the image.\n",
    "- `projection()`: Gets the image's projection.\n",
    "- `reduceRegion()`: Reduces the image to a statistic for a specified region.\n",
    "- `reduceNeighborhood()`: Reduces the image to a statistic for a specified neighborhood.\n",
    "- `normalizedDifference()`: Computes the normalized difference of two bands.\n",
    "- `bandNames()`: Gets the names of the bands in the image.\n",
    "- `propertyNames()`: Gets the names of the properties in the image.\n",
    "- `get()`: Gets a property from the image.\n",
    "- `set()`: Sets a property in the image.\n",
    "- `mask()`: Masks the image according to a condition.\n",
    "- `updateMask()`: Updates the mask of the image.\n",
    "- `toFloat()`, `toInt()`, `toDouble()`: Changes the data type of the image.\n",
    "- `resample()`: Resamples the image using a specified resampler.\n",
    "- `reproject()`: Reprojects the image to a specified projection.\n",
    "\n",
    "You can find more information about these methods and others in the [GEE API documentation](https://developers.google.com/earth-engine/apidocs/ee-image)."
   ]
  },
  {
   "cell_type": "code",
   "execution_count": 9,
   "metadata": {},
   "outputs": [
    {
     "data": {
      "text/html": [
       "\n",
       "            <style>\n",
       "                .geemap-dark {\n",
       "                    --jp-widgets-color: white;\n",
       "                    --jp-widgets-label-color: white;\n",
       "                    --jp-ui-font-color1: white;\n",
       "                    --jp-layout-color2: #454545;\n",
       "                    background-color: #383838;\n",
       "                }\n",
       "                    \n",
       "                .geemap-dark .jupyter-button {\n",
       "                    --jp-layout-color3: #383838;\n",
       "                }\n",
       "                \n",
       "                .geemap-colab {\n",
       "                    background-color: var(--colab-primary-surface-color, white);\n",
       "                }\n",
       "                    \n",
       "                .geemap-colab .jupyter-button {\n",
       "                    --jp-layout-color3: var(--colab-primary-surface-color, white);\n",
       "                }\n",
       "            </style>\n",
       "            "
      ],
      "text/plain": [
       "<IPython.core.display.HTML object>"
      ]
     },
     "metadata": {},
     "output_type": "display_data"
    },
    {
     "name": "stdout",
     "output_type": "stream",
     "text": [
      "First image date:  2000-02-18\n",
      "Last image date:  2023-02-02\n",
      "Number of images:  529\n",
      "Mean of collection:  {'type': 'Image', 'bands': [{'id': 'NDVI_mean', 'data_type': {'type': 'PixelType', 'precision': 'double', 'min': -32768, 'max': 32767}, 'crs': 'EPSG:4326', 'crs_transform': [1, 0, 0, 0, 1, 0]}, {'id': 'EVI_mean', 'data_type': {'type': 'PixelType', 'precision': 'double', 'min': -32768, 'max': 32767}, 'crs': 'EPSG:4326', 'crs_transform': [1, 0, 0, 0, 1, 0]}, {'id': 'DetailedQA_mean', 'data_type': {'type': 'PixelType', 'precision': 'double', 'min': 0, 'max': 65535}, 'crs': 'EPSG:4326', 'crs_transform': [1, 0, 0, 0, 1, 0]}, {'id': 'sur_refl_b01_mean', 'data_type': {'type': 'PixelType', 'precision': 'double', 'min': -32768, 'max': 32767}, 'crs': 'EPSG:4326', 'crs_transform': [1, 0, 0, 0, 1, 0]}, {'id': 'sur_refl_b02_mean', 'data_type': {'type': 'PixelType', 'precision': 'double', 'min': -32768, 'max': 32767}, 'crs': 'EPSG:4326', 'crs_transform': [1, 0, 0, 0, 1, 0]}, {'id': 'sur_refl_b03_mean', 'data_type': {'type': 'PixelType', 'precision': 'double', 'min': -32768, 'max': 32767}, 'crs': 'EPSG:4326', 'crs_transform': [1, 0, 0, 0, 1, 0]}, {'id': 'sur_refl_b07_mean', 'data_type': {'type': 'PixelType', 'precision': 'double', 'min': -32768, 'max': 32767}, 'crs': 'EPSG:4326', 'crs_transform': [1, 0, 0, 0, 1, 0]}, {'id': 'ViewZenith_mean', 'data_type': {'type': 'PixelType', 'precision': 'double', 'min': -32768, 'max': 32767}, 'crs': 'EPSG:4326', 'crs_transform': [1, 0, 0, 0, 1, 0]}, {'id': 'SolarZenith_mean', 'data_type': {'type': 'PixelType', 'precision': 'double', 'min': -32768, 'max': 32767}, 'crs': 'EPSG:4326', 'crs_transform': [1, 0, 0, 0, 1, 0]}, {'id': 'RelativeAzimuth_mean', 'data_type': {'type': 'PixelType', 'precision': 'double', 'min': -32768, 'max': 32767}, 'crs': 'EPSG:4326', 'crs_transform': [1, 0, 0, 0, 1, 0]}, {'id': 'DayOfYear_mean', 'data_type': {'type': 'PixelType', 'precision': 'double', 'min': -32768, 'max': 32767}, 'crs': 'EPSG:4326', 'crs_transform': [1, 0, 0, 0, 1, 0]}, {'id': 'SummaryQA_mean', 'data_type': {'type': 'PixelType', 'precision': 'double', 'min': -128, 'max': 127}, 'crs': 'EPSG:4326', 'crs_transform': [1, 0, 0, 0, 1, 0]}]}\n",
      "Median of collection:  {'type': 'Image', 'bands': [{'id': 'NDVI_median', 'data_type': {'type': 'PixelType', 'precision': 'double', 'min': -32768, 'max': 32767}, 'crs': 'EPSG:4326', 'crs_transform': [1, 0, 0, 0, 1, 0]}, {'id': 'EVI_median', 'data_type': {'type': 'PixelType', 'precision': 'double', 'min': -32768, 'max': 32767}, 'crs': 'EPSG:4326', 'crs_transform': [1, 0, 0, 0, 1, 0]}, {'id': 'DetailedQA_median', 'data_type': {'type': 'PixelType', 'precision': 'double', 'min': 0, 'max': 65535}, 'crs': 'EPSG:4326', 'crs_transform': [1, 0, 0, 0, 1, 0]}, {'id': 'sur_refl_b01_median', 'data_type': {'type': 'PixelType', 'precision': 'double', 'min': -32768, 'max': 32767}, 'crs': 'EPSG:4326', 'crs_transform': [1, 0, 0, 0, 1, 0]}, {'id': 'sur_refl_b02_median', 'data_type': {'type': 'PixelType', 'precision': 'double', 'min': -32768, 'max': 32767}, 'crs': 'EPSG:4326', 'crs_transform': [1, 0, 0, 0, 1, 0]}, {'id': 'sur_refl_b03_median', 'data_type': {'type': 'PixelType', 'precision': 'double', 'min': -32768, 'max': 32767}, 'crs': 'EPSG:4326', 'crs_transform': [1, 0, 0, 0, 1, 0]}, {'id': 'sur_refl_b07_median', 'data_type': {'type': 'PixelType', 'precision': 'double', 'min': -32768, 'max': 32767}, 'crs': 'EPSG:4326', 'crs_transform': [1, 0, 0, 0, 1, 0]}, {'id': 'ViewZenith_median', 'data_type': {'type': 'PixelType', 'precision': 'double', 'min': -32768, 'max': 32767}, 'crs': 'EPSG:4326', 'crs_transform': [1, 0, 0, 0, 1, 0]}, {'id': 'SolarZenith_median', 'data_type': {'type': 'PixelType', 'precision': 'double', 'min': -32768, 'max': 32767}, 'crs': 'EPSG:4326', 'crs_transform': [1, 0, 0, 0, 1, 0]}, {'id': 'RelativeAzimuth_median', 'data_type': {'type': 'PixelType', 'precision': 'double', 'min': -32768, 'max': 32767}, 'crs': 'EPSG:4326', 'crs_transform': [1, 0, 0, 0, 1, 0]}, {'id': 'DayOfYear_median', 'data_type': {'type': 'PixelType', 'precision': 'double', 'min': -32768, 'max': 32767}, 'crs': 'EPSG:4326', 'crs_transform': [1, 0, 0, 0, 1, 0]}, {'id': 'SummaryQA_median', 'data_type': {'type': 'PixelType', 'precision': 'double', 'min': -128, 'max': 127}, 'crs': 'EPSG:4326', 'crs_transform': [1, 0, 0, 0, 1, 0]}]}\n",
      "12\n",
      "Names of bands in median image ['NDVI_median', 'EVI_median', 'DetailedQA_median', 'sur_refl_b01_median', 'sur_refl_b02_median', 'sur_refl_b03_median', 'sur_refl_b07_median', 'ViewZenith_median', 'SolarZenith_median', 'RelativeAzimuth_median', 'DayOfYear_median', 'SummaryQA_median']\n"
     ]
    }
   ],
   "source": [
    "# Define your image collection.\n",
    "collection = ndvi\n",
    "\n",
    "# Get the date of the first image in the collection.\n",
    "first_image = ee.Image(collection.first())\n",
    "first_date = ee.Date(first_image.get('system:time_start')).format('YYYY-MM-dd')\n",
    "print('First image date: ', first_date.getInfo())\n",
    "\n",
    "# Get the date of the last image in the collection.\n",
    "last_image = ee.Image(collection.sort('system:time_start', False).first())\n",
    "last_date = ee.Date(last_image.get('system:time_start')).format('YYYY-MM-dd')\n",
    "print('Last image date: ', last_date.getInfo())\n",
    "\n",
    "# Get the number of images in the collection.\n",
    "num_images = collection.size()\n",
    "print('Number of images: ', num_images.getInfo())\n",
    "\n",
    "# filter the collection by date\n",
    "# Define your start and end dates.\n",
    "start_date = '2020-01-01'\n",
    "end_date = '2020-12-31'\n",
    "\n",
    "# Filter the collection.\n",
    "filtered_collection = collection.filterDate(start_date, end_date)\n",
    "\n",
    "# Calculate the mean of the collection.\n",
    "mean_image = collection.reduce(ee.Reducer.mean())\n",
    "print('Mean of collection: ', mean_image.getInfo())\n",
    "# Calculate the median of the collection.\n",
    "median_image = collection.reduce(ee.Reducer.median())\n",
    "print('Median of collection: ', median_image.getInfo())\n",
    "# the mean and the median are calculated for each pixel in the image collection by band\n",
    "numb_bands_in_median_image = median_image.bandNames().size().getInfo()   \n",
    "print(numb_bands_in_median_image)\n",
    "print('Names of bands in median image', median_image.bandNames().getInfo())\n"
   ]
  },
  {
   "cell_type": "code",
   "execution_count": 7,
   "metadata": {},
   "outputs": [
    {
     "data": {
      "text/html": [
       "\n",
       "            <style>\n",
       "                .geemap-dark {\n",
       "                    --jp-widgets-color: white;\n",
       "                    --jp-widgets-label-color: white;\n",
       "                    --jp-ui-font-color1: white;\n",
       "                    --jp-layout-color2: #454545;\n",
       "                    background-color: #383838;\n",
       "                }\n",
       "                    \n",
       "                .geemap-dark .jupyter-button {\n",
       "                    --jp-layout-color3: #383838;\n",
       "                }\n",
       "                \n",
       "                .geemap-colab {\n",
       "                    background-color: var(--colab-primary-surface-color, white);\n",
       "                }\n",
       "                    \n",
       "                .geemap-colab .jupyter-button {\n",
       "                    --jp-layout-color3: var(--colab-primary-surface-color, white);\n",
       "                }\n",
       "            </style>\n",
       "            "
      ],
      "text/plain": [
       "<IPython.core.display.HTML object>"
      ]
     },
     "metadata": {},
     "output_type": "display_data"
    },
    {
     "name": "stdout",
     "output_type": "stream",
     "text": [
      "Number of bands in first image:  12\n",
      "Band names:  ['NDVI', 'EVI', 'DetailedQA', 'sur_refl_b01', 'sur_refl_b02', 'sur_refl_b03', 'sur_refl_b07', 'ViewZenith', 'SolarZenith', 'RelativeAzimuth', 'DayOfYear', 'SummaryQA']\n",
      "First image properties:  ['system:time_start', 'google:max_source_file_timestamp', 'system:footprint', 'system:time_end', 'system:version', 'system:id', 'system:asset_size', 'system:index', 'system:bands', 'system:band_names']\n",
      "Last image properties:  ['system:time_start', 'google:max_source_file_timestamp', 'system:footprint', 'system:time_end', 'system:version', 'system:id', 'system:asset_size', 'system:index', 'system:bands', 'system:band_names']\n"
     ]
    }
   ],
   "source": [
    "# Get the number of bands in the first image.\n",
    "num_bands = first_image.bandNames().size()\n",
    "print('Number of bands in first image: ', num_bands.getInfo())\n",
    "\n",
    "# Get the name of the bands in the first image.\n",
    "band_names = first_image.bandNames()\n",
    "print('Band names: ', band_names.getInfo())\n",
    "\n",
    "# Get the name of the properties of the first image.\n",
    "first_image_properties = first_image.propertyNames()\n",
    "print('First image properties: ', first_image_properties.getInfo())\n",
    "\n",
    "# Get the name of the properties of the last image.\n",
    "last_image_properties = last_image.propertyNames()\n",
    "print('Last image properties: ', last_image_properties.getInfo())\n",
    "\n"
   ]
  },
  {
   "cell_type": "markdown",
   "metadata": {},
   "source": [
    "#### 2.3.4. Create a region of interest (feature) and visualise median NDVI image "
   ]
  },
  {
   "cell_type": "code",
   "execution_count": 10,
   "metadata": {},
   "outputs": [
    {
     "data": {
      "text/html": [
       "\n",
       "            <style>\n",
       "                .geemap-dark {\n",
       "                    --jp-widgets-color: white;\n",
       "                    --jp-widgets-label-color: white;\n",
       "                    --jp-ui-font-color1: white;\n",
       "                    --jp-layout-color2: #454545;\n",
       "                    background-color: #383838;\n",
       "                }\n",
       "                    \n",
       "                .geemap-dark .jupyter-button {\n",
       "                    --jp-layout-color3: #383838;\n",
       "                }\n",
       "                \n",
       "                .geemap-colab {\n",
       "                    background-color: var(--colab-primary-surface-color, white);\n",
       "                }\n",
       "                    \n",
       "                .geemap-colab .jupyter-button {\n",
       "                    --jp-layout-color3: var(--colab-primary-surface-color, white);\n",
       "                }\n",
       "            </style>\n",
       "            "
      ],
      "text/plain": [
       "<IPython.core.display.HTML object>"
      ]
     },
     "metadata": {},
     "output_type": "display_data"
    },
    {
     "data": {
      "application/vnd.jupyter.widget-view+json": {
       "model_id": "9ba8917f9ca34adf9613ed379ceb29d7",
       "version_major": 2,
       "version_minor": 0
      },
      "text/plain": [
       "Map(bottom=362613.0, center=[48.5, 2.78], controls=(WidgetControl(options=['position', 'transparent_bg'], widg…"
      ]
     },
     "execution_count": 10,
     "metadata": {},
     "output_type": "execute_result"
    }
   ],
   "source": [
    "# Define the coordinates of the rectangle.\n",
    "coordinates = [[2, 48], [3, 48], [3, 49], [2, 49]]\n",
    "\n",
    "# Create the ROI.\n",
    "roi = ee.Geometry.Polygon(coordinates)\n",
    "Cliped_median=median_image.clip(roi)\n",
    "vis_params_median = {\n",
    "  'min': -10000,\n",
    "  'max': 10000,\n",
    "  'palette': ['white', 'black']\n",
    "}\n",
    "\n",
    "# Center the map and display the image\n",
    "Map.setCenter(lon=2.78, lat=48.5, zoom=12)\n",
    "Map.addLayer(Cliped_median.select('NDVI_median'), vis_params_median, 'NDVI *10000')\n",
    "Map"
   ]
  },
  {
   "cell_type": "code",
   "execution_count": 11,
   "metadata": {},
   "outputs": [
    {
     "data": {
      "text/html": [
       "\n",
       "            <style>\n",
       "                .geemap-dark {\n",
       "                    --jp-widgets-color: white;\n",
       "                    --jp-widgets-label-color: white;\n",
       "                    --jp-ui-font-color1: white;\n",
       "                    --jp-layout-color2: #454545;\n",
       "                    background-color: #383838;\n",
       "                }\n",
       "                    \n",
       "                .geemap-dark .jupyter-button {\n",
       "                    --jp-layout-color3: #383838;\n",
       "                }\n",
       "                \n",
       "                .geemap-colab {\n",
       "                    background-color: var(--colab-primary-surface-color, white);\n",
       "                }\n",
       "                    \n",
       "                .geemap-colab .jupyter-button {\n",
       "                    --jp-layout-color3: var(--colab-primary-surface-color, white);\n",
       "                }\n",
       "            </style>\n",
       "            "
      ],
      "text/plain": [
       "<IPython.core.display.HTML object>"
      ]
     },
     "metadata": {},
     "output_type": "display_data"
    },
    {
     "name": "stdout",
     "output_type": "stream",
     "text": [
      "['NDVI_median', 'EVI_median', 'DetailedQA_median', 'sur_refl_b01_median', 'sur_refl_b02_median', 'sur_refl_b03_median', 'sur_refl_b07_median', 'ViewZenith_median', 'SolarZenith_median', 'RelativeAzimuth_median', 'DayOfYear_median', 'SummaryQA_median']\n"
     ]
    }
   ],
   "source": [
    "print(Cliped_median.bandNames().getInfo())"
   ]
  },
  {
   "cell_type": "code",
   "execution_count": 12,
   "metadata": {},
   "outputs": [
    {
     "data": {
      "text/html": [
       "\n",
       "            <style>\n",
       "                .geemap-dark {\n",
       "                    --jp-widgets-color: white;\n",
       "                    --jp-widgets-label-color: white;\n",
       "                    --jp-ui-font-color1: white;\n",
       "                    --jp-layout-color2: #454545;\n",
       "                    background-color: #383838;\n",
       "                }\n",
       "                    \n",
       "                .geemap-dark .jupyter-button {\n",
       "                    --jp-layout-color3: #383838;\n",
       "                }\n",
       "                \n",
       "                .geemap-colab {\n",
       "                    background-color: var(--colab-primary-surface-color, white);\n",
       "                }\n",
       "                    \n",
       "                .geemap-colab .jupyter-button {\n",
       "                    --jp-layout-color3: var(--colab-primary-surface-color, white);\n",
       "                }\n",
       "            </style>\n",
       "            "
      ],
      "text/plain": [
       "<IPython.core.display.HTML object>"
      ]
     },
     "metadata": {},
     "output_type": "display_data"
    },
    {
     "name": "stdout",
     "output_type": "stream",
     "text": [
      "['sur_refl_b03_median', 'sur_refl_b01_median', 'sur_refl_b02_median']\n"
     ]
    },
    {
     "data": {
      "application/vnd.jupyter.widget-view+json": {
       "model_id": "9ba8917f9ca34adf9613ed379ceb29d7",
       "version_major": 2,
       "version_minor": 0
      },
      "text/plain": [
       "Map(bottom=90830.0, center=[48.54388716039111, 2.880477905273438], controls=(WidgetControl(options=['position'…"
      ]
     },
     "execution_count": 12,
     "metadata": {},
     "output_type": "execute_result"
    }
   ],
   "source": [
    "#### Create a composite color using median values in green, red and NIR bands (here we use the blue band instead of the green band)\n",
    "# See MODIS/006/MOD13A1\n",
    "# https://developers.google.com/earth-engine/datasets/catalog/MODIS_061_MOD13A1#bands\n",
    "# sur_refl_b01 : red band\n",
    "# sur_refl_b02 : near infrared band\t\n",
    "# Nsur_refl_b03 : Blue surface reflectance\n",
    "BlueBand=Cliped_median.select('sur_refl_b03_median')\n",
    "RedBand=Cliped_median.select('sur_refl_b01_median')\n",
    "NIRBand=Cliped_median.select('sur_refl_b02_median')\n",
    "\n",
    "# Define visualization parameters with a blue to green to red palette.\n",
    "# Define visualization parameters.\n",
    "vis_params = {\n",
    "  'bands': ['sur_refl_b03_median', 'sur_refl_b01_median', 'sur_refl_b02_median'],\n",
    "  'min': [0,0,0],\n",
    "  'max': [10000, 10000, 10000]\n",
    "}\n",
    "\n",
    "median_composite = ee.Image.cat(BlueBand, RedBand, NIRBand)\n",
    "print(median_composite.bandNames().getInfo())\n",
    "# Add the layer to the map using the new visualization parameters.\n",
    "Map.addLayer(median_composite,vis_params, 'Composite')\n",
    "Map"
   ]
  }
 ],
 "metadata": {
  "kernelspec": {
   "display_name": "Python 3",
   "language": "python",
   "name": "python3"
  },
  "language_info": {
   "codemirror_mode": {
    "name": "ipython",
    "version": 3
   },
   "file_extension": ".py",
   "mimetype": "text/x-python",
   "name": "python",
   "nbconvert_exporter": "python",
   "pygments_lexer": "ipython3",
   "version": "3.10.0"
  }
 },
 "nbformat": 4,
 "nbformat_minor": 2
}
